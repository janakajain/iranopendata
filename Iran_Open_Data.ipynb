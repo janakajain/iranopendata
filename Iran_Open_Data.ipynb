{
 "cells": [
  {
   "cell_type": "markdown",
   "metadata": {},
   "source": [
    "# Iran Open Data"
   ]
  },
  {
   "cell_type": "markdown",
   "metadata": {},
   "source": [
    "Source: http://iranopendata.org/en/datasets/nocrhsp172"
   ]
  },
  {
   "cell_type": "markdown",
   "metadata": {},
   "source": [
    "---  \n",
    "\n",
    "## Number of deaths registered in 1394, disaggregated by causes of death and region"
   ]
  },
  {
   "cell_type": "markdown",
   "metadata": {},
   "source": [
    "---"
   ]
  },
  {
   "cell_type": "markdown",
   "metadata": {},
   "source": [
    "### Importing libraries and tools"
   ]
  },
  {
   "cell_type": "code",
   "execution_count": 57,
   "metadata": {
    "collapsed": false
   },
   "outputs": [],
   "source": [
    "import pandas as pd\n",
    "import matplotlib.pyplot as plt\n",
    "import numpy as np\n",
    "\n",
    "from matplotlib.pylab import rcParams\n",
    "\n",
    "%matplotlib inline\n",
    "rcParams.figsize = (17,17)"
   ]
  },
  {
   "cell_type": "markdown",
   "metadata": {},
   "source": [
    "### Importing the dataset"
   ]
  },
  {
   "cell_type": "code",
   "execution_count": 8,
   "metadata": {
    "collapsed": false
   },
   "outputs": [],
   "source": [
    "df = pd.read_csv('nocrhsp172en.csv')"
   ]
  },
  {
   "cell_type": "code",
   "execution_count": 11,
   "metadata": {
    "collapsed": false
   },
   "outputs": [
    {
     "data": {
      "text/html": [
       "<div>\n",
       "<table border=\"1\" class=\"dataframe\">\n",
       "  <thead>\n",
       "    <tr style=\"text-align: right;\">\n",
       "      <th></th>\n",
       "      <th>Province</th>\n",
       "      <th>Total death (person)</th>\n",
       "      <th>Infections and Parasitic diseases (person)</th>\n",
       "      <th>Cancer and Tumours (person)</th>\n",
       "      <th>Haematopoietic immune system diseases (person)</th>\n",
       "      <th>Nutritional and metabolic diseases (person)</th>\n",
       "      <th>Mental illness and behavioural disorders (person)</th>\n",
       "      <th>Nervous system diseases (person)</th>\n",
       "      <th>Cardiovascular diseases (person)</th>\n",
       "      <th>Respiratory system diseases (person)</th>\n",
       "      <th>...</th>\n",
       "      <th>Diseases of the skin and subcutaneous (person)</th>\n",
       "      <th>Musculoskeletal disorders (person)</th>\n",
       "      <th>Urogenital tract diseases (person)</th>\n",
       "      <th>Complications of pregnancy and childbirth (person)</th>\n",
       "      <th>Congenital malformations and chromosomal (person)</th>\n",
       "      <th>Diseases during the perinatal (person)</th>\n",
       "      <th>Symptoms are vague and ill-defined conditions (person)</th>\n",
       "      <th>Unintentional injuries (person)</th>\n",
       "      <th>Unknown (person)</th>\n",
       "      <th>Others (person)</th>\n",
       "    </tr>\n",
       "  </thead>\n",
       "  <tbody>\n",
       "    <tr>\n",
       "      <th>0</th>\n",
       "      <td>Total</td>\n",
       "      <td>345487</td>\n",
       "      <td>11486</td>\n",
       "      <td>35732</td>\n",
       "      <td>2131</td>\n",
       "      <td>5384</td>\n",
       "      <td>1165</td>\n",
       "      <td>5482</td>\n",
       "      <td>133627</td>\n",
       "      <td>28096</td>\n",
       "      <td>...</td>\n",
       "      <td>57</td>\n",
       "      <td>684</td>\n",
       "      <td>6341</td>\n",
       "      <td>287</td>\n",
       "      <td>6736</td>\n",
       "      <td>7589</td>\n",
       "      <td>39930</td>\n",
       "      <td>25172</td>\n",
       "      <td>25029</td>\n",
       "      <td>3115</td>\n",
       "    </tr>\n",
       "    <tr>\n",
       "      <th>1</th>\n",
       "      <td>Azerbaijan East</td>\n",
       "      <td>20877</td>\n",
       "      <td>134</td>\n",
       "      <td>2349</td>\n",
       "      <td>399</td>\n",
       "      <td>381</td>\n",
       "      <td>101</td>\n",
       "      <td>456</td>\n",
       "      <td>6770</td>\n",
       "      <td>1797</td>\n",
       "      <td>...</td>\n",
       "      <td>0</td>\n",
       "      <td>19</td>\n",
       "      <td>391</td>\n",
       "      <td>23</td>\n",
       "      <td>413</td>\n",
       "      <td>109</td>\n",
       "      <td>3328</td>\n",
       "      <td>1236</td>\n",
       "      <td>2319</td>\n",
       "      <td>216</td>\n",
       "    </tr>\n",
       "    <tr>\n",
       "      <th>2</th>\n",
       "      <td>Azerbaijan West</td>\n",
       "      <td>14006</td>\n",
       "      <td>127</td>\n",
       "      <td>2029</td>\n",
       "      <td>50</td>\n",
       "      <td>172</td>\n",
       "      <td>81</td>\n",
       "      <td>216</td>\n",
       "      <td>4833</td>\n",
       "      <td>724</td>\n",
       "      <td>...</td>\n",
       "      <td>1</td>\n",
       "      <td>14</td>\n",
       "      <td>196</td>\n",
       "      <td>29</td>\n",
       "      <td>285</td>\n",
       "      <td>238</td>\n",
       "      <td>1425</td>\n",
       "      <td>895</td>\n",
       "      <td>2330</td>\n",
       "      <td>195</td>\n",
       "    </tr>\n",
       "    <tr>\n",
       "      <th>3</th>\n",
       "      <td>Ardabil</td>\n",
       "      <td>6115</td>\n",
       "      <td>58</td>\n",
       "      <td>917</td>\n",
       "      <td>20</td>\n",
       "      <td>138</td>\n",
       "      <td>40</td>\n",
       "      <td>41</td>\n",
       "      <td>2156</td>\n",
       "      <td>310</td>\n",
       "      <td>...</td>\n",
       "      <td>0</td>\n",
       "      <td>5</td>\n",
       "      <td>110</td>\n",
       "      <td>2</td>\n",
       "      <td>99</td>\n",
       "      <td>88</td>\n",
       "      <td>1358</td>\n",
       "      <td>393</td>\n",
       "      <td>230</td>\n",
       "      <td>52</td>\n",
       "    </tr>\n",
       "    <tr>\n",
       "      <th>4</th>\n",
       "      <td>Isfahan</td>\n",
       "      <td>21937</td>\n",
       "      <td>515</td>\n",
       "      <td>2481</td>\n",
       "      <td>72</td>\n",
       "      <td>346</td>\n",
       "      <td>32</td>\n",
       "      <td>452</td>\n",
       "      <td>9313</td>\n",
       "      <td>1639</td>\n",
       "      <td>...</td>\n",
       "      <td>2</td>\n",
       "      <td>85</td>\n",
       "      <td>534</td>\n",
       "      <td>9</td>\n",
       "      <td>712</td>\n",
       "      <td>212</td>\n",
       "      <td>2037</td>\n",
       "      <td>1500</td>\n",
       "      <td>1531</td>\n",
       "      <td>102</td>\n",
       "    </tr>\n",
       "  </tbody>\n",
       "</table>\n",
       "<p>5 rows × 21 columns</p>\n",
       "</div>"
      ],
      "text/plain": [
       "          Province  Total death (person)  \\\n",
       "0            Total                345487   \n",
       "1  Azerbaijan East                 20877   \n",
       "2  Azerbaijan West                 14006   \n",
       "3          Ardabil                  6115   \n",
       "4          Isfahan                 21937   \n",
       "\n",
       "   Infections and Parasitic diseases (person)  Cancer and Tumours (person)  \\\n",
       "0                                       11486                        35732   \n",
       "1                                         134                         2349   \n",
       "2                                         127                         2029   \n",
       "3                                          58                          917   \n",
       "4                                         515                         2481   \n",
       "\n",
       "   Haematopoietic immune system diseases (person)  \\\n",
       "0                                            2131   \n",
       "1                                             399   \n",
       "2                                              50   \n",
       "3                                              20   \n",
       "4                                              72   \n",
       "\n",
       "   Nutritional and metabolic diseases (person)  \\\n",
       "0                                         5384   \n",
       "1                                          381   \n",
       "2                                          172   \n",
       "3                                          138   \n",
       "4                                          346   \n",
       "\n",
       "   Mental illness and behavioural disorders (person)  \\\n",
       "0                                               1165   \n",
       "1                                                101   \n",
       "2                                                 81   \n",
       "3                                                 40   \n",
       "4                                                 32   \n",
       "\n",
       "   Nervous system diseases (person)  Cardiovascular diseases (person)  \\\n",
       "0                              5482                            133627   \n",
       "1                               456                              6770   \n",
       "2                               216                              4833   \n",
       "3                                41                              2156   \n",
       "4                               452                              9313   \n",
       "\n",
       "   Respiratory system diseases (person)       ...         \\\n",
       "0                                 28096       ...          \n",
       "1                                  1797       ...          \n",
       "2                                   724       ...          \n",
       "3                                   310       ...          \n",
       "4                                  1639       ...          \n",
       "\n",
       "   Diseases of the skin and subcutaneous (person)  \\\n",
       "0                                              57   \n",
       "1                                               0   \n",
       "2                                               1   \n",
       "3                                               0   \n",
       "4                                               2   \n",
       "\n",
       "   Musculoskeletal disorders (person)  Urogenital tract diseases (person)  \\\n",
       "0                                 684                                6341   \n",
       "1                                  19                                 391   \n",
       "2                                  14                                 196   \n",
       "3                                   5                                 110   \n",
       "4                                  85                                 534   \n",
       "\n",
       "   Complications of pregnancy and childbirth (person)  \\\n",
       "0                                                287    \n",
       "1                                                 23    \n",
       "2                                                 29    \n",
       "3                                                  2    \n",
       "4                                                  9    \n",
       "\n",
       "   Congenital malformations and chromosomal (person)  \\\n",
       "0                                               6736   \n",
       "1                                                413   \n",
       "2                                                285   \n",
       "3                                                 99   \n",
       "4                                                712   \n",
       "\n",
       "   Diseases during the perinatal (person)  \\\n",
       "0                                    7589   \n",
       "1                                     109   \n",
       "2                                     238   \n",
       "3                                      88   \n",
       "4                                     212   \n",
       "\n",
       "   Symptoms are vague and ill-defined conditions (person)  \\\n",
       "0                                              39930        \n",
       "1                                               3328        \n",
       "2                                               1425        \n",
       "3                                               1358        \n",
       "4                                               2037        \n",
       "\n",
       "   Unintentional injuries (person)  Unknown (person)  Others (person)  \n",
       "0                            25172             25029             3115  \n",
       "1                             1236              2319              216  \n",
       "2                              895              2330              195  \n",
       "3                              393               230               52  \n",
       "4                             1500              1531              102  \n",
       "\n",
       "[5 rows x 21 columns]"
      ]
     },
     "execution_count": 11,
     "metadata": {},
     "output_type": "execute_result"
    }
   ],
   "source": [
    "df.head()"
   ]
  },
  {
   "cell_type": "code",
   "execution_count": 13,
   "metadata": {
    "collapsed": false
   },
   "outputs": [],
   "source": [
    "data = df.loc[1:,:]"
   ]
  },
  {
   "cell_type": "code",
   "execution_count": 15,
   "metadata": {
    "collapsed": false
   },
   "outputs": [
    {
     "data": {
      "text/html": [
       "<div>\n",
       "<table border=\"1\" class=\"dataframe\">\n",
       "  <thead>\n",
       "    <tr style=\"text-align: right;\">\n",
       "      <th></th>\n",
       "      <th>Province</th>\n",
       "      <th>Total death (person)</th>\n",
       "      <th>Infections and Parasitic diseases (person)</th>\n",
       "      <th>Cancer and Tumours (person)</th>\n",
       "      <th>Haematopoietic immune system diseases (person)</th>\n",
       "      <th>Nutritional and metabolic diseases (person)</th>\n",
       "      <th>Mental illness and behavioural disorders (person)</th>\n",
       "      <th>Nervous system diseases (person)</th>\n",
       "      <th>Cardiovascular diseases (person)</th>\n",
       "      <th>Respiratory system diseases (person)</th>\n",
       "      <th>...</th>\n",
       "      <th>Diseases of the skin and subcutaneous (person)</th>\n",
       "      <th>Musculoskeletal disorders (person)</th>\n",
       "      <th>Urogenital tract diseases (person)</th>\n",
       "      <th>Complications of pregnancy and childbirth (person)</th>\n",
       "      <th>Congenital malformations and chromosomal (person)</th>\n",
       "      <th>Diseases during the perinatal (person)</th>\n",
       "      <th>Symptoms are vague and ill-defined conditions (person)</th>\n",
       "      <th>Unintentional injuries (person)</th>\n",
       "      <th>Unknown (person)</th>\n",
       "      <th>Others (person)</th>\n",
       "    </tr>\n",
       "  </thead>\n",
       "  <tbody>\n",
       "    <tr>\n",
       "      <th>1</th>\n",
       "      <td>Azerbaijan East</td>\n",
       "      <td>20877</td>\n",
       "      <td>134</td>\n",
       "      <td>2349</td>\n",
       "      <td>399</td>\n",
       "      <td>381</td>\n",
       "      <td>101</td>\n",
       "      <td>456</td>\n",
       "      <td>6770</td>\n",
       "      <td>1797</td>\n",
       "      <td>...</td>\n",
       "      <td>0</td>\n",
       "      <td>19</td>\n",
       "      <td>391</td>\n",
       "      <td>23</td>\n",
       "      <td>413</td>\n",
       "      <td>109</td>\n",
       "      <td>3328</td>\n",
       "      <td>1236</td>\n",
       "      <td>2319</td>\n",
       "      <td>216</td>\n",
       "    </tr>\n",
       "    <tr>\n",
       "      <th>2</th>\n",
       "      <td>Azerbaijan West</td>\n",
       "      <td>14006</td>\n",
       "      <td>127</td>\n",
       "      <td>2029</td>\n",
       "      <td>50</td>\n",
       "      <td>172</td>\n",
       "      <td>81</td>\n",
       "      <td>216</td>\n",
       "      <td>4833</td>\n",
       "      <td>724</td>\n",
       "      <td>...</td>\n",
       "      <td>1</td>\n",
       "      <td>14</td>\n",
       "      <td>196</td>\n",
       "      <td>29</td>\n",
       "      <td>285</td>\n",
       "      <td>238</td>\n",
       "      <td>1425</td>\n",
       "      <td>895</td>\n",
       "      <td>2330</td>\n",
       "      <td>195</td>\n",
       "    </tr>\n",
       "    <tr>\n",
       "      <th>3</th>\n",
       "      <td>Ardabil</td>\n",
       "      <td>6115</td>\n",
       "      <td>58</td>\n",
       "      <td>917</td>\n",
       "      <td>20</td>\n",
       "      <td>138</td>\n",
       "      <td>40</td>\n",
       "      <td>41</td>\n",
       "      <td>2156</td>\n",
       "      <td>310</td>\n",
       "      <td>...</td>\n",
       "      <td>0</td>\n",
       "      <td>5</td>\n",
       "      <td>110</td>\n",
       "      <td>2</td>\n",
       "      <td>99</td>\n",
       "      <td>88</td>\n",
       "      <td>1358</td>\n",
       "      <td>393</td>\n",
       "      <td>230</td>\n",
       "      <td>52</td>\n",
       "    </tr>\n",
       "    <tr>\n",
       "      <th>4</th>\n",
       "      <td>Isfahan</td>\n",
       "      <td>21937</td>\n",
       "      <td>515</td>\n",
       "      <td>2481</td>\n",
       "      <td>72</td>\n",
       "      <td>346</td>\n",
       "      <td>32</td>\n",
       "      <td>452</td>\n",
       "      <td>9313</td>\n",
       "      <td>1639</td>\n",
       "      <td>...</td>\n",
       "      <td>2</td>\n",
       "      <td>85</td>\n",
       "      <td>534</td>\n",
       "      <td>9</td>\n",
       "      <td>712</td>\n",
       "      <td>212</td>\n",
       "      <td>2037</td>\n",
       "      <td>1500</td>\n",
       "      <td>1531</td>\n",
       "      <td>102</td>\n",
       "    </tr>\n",
       "    <tr>\n",
       "      <th>5</th>\n",
       "      <td>Alborz</td>\n",
       "      <td>8574</td>\n",
       "      <td>472</td>\n",
       "      <td>669</td>\n",
       "      <td>71</td>\n",
       "      <td>95</td>\n",
       "      <td>6</td>\n",
       "      <td>144</td>\n",
       "      <td>3599</td>\n",
       "      <td>1275</td>\n",
       "      <td>...</td>\n",
       "      <td>0</td>\n",
       "      <td>5</td>\n",
       "      <td>125</td>\n",
       "      <td>2</td>\n",
       "      <td>91</td>\n",
       "      <td>315</td>\n",
       "      <td>225</td>\n",
       "      <td>486</td>\n",
       "      <td>556</td>\n",
       "      <td>251</td>\n",
       "    </tr>\n",
       "  </tbody>\n",
       "</table>\n",
       "<p>5 rows × 21 columns</p>\n",
       "</div>"
      ],
      "text/plain": [
       "          Province  Total death (person)  \\\n",
       "1  Azerbaijan East                 20877   \n",
       "2  Azerbaijan West                 14006   \n",
       "3          Ardabil                  6115   \n",
       "4          Isfahan                 21937   \n",
       "5           Alborz                  8574   \n",
       "\n",
       "   Infections and Parasitic diseases (person)  Cancer and Tumours (person)  \\\n",
       "1                                         134                         2349   \n",
       "2                                         127                         2029   \n",
       "3                                          58                          917   \n",
       "4                                         515                         2481   \n",
       "5                                         472                          669   \n",
       "\n",
       "   Haematopoietic immune system diseases (person)  \\\n",
       "1                                             399   \n",
       "2                                              50   \n",
       "3                                              20   \n",
       "4                                              72   \n",
       "5                                              71   \n",
       "\n",
       "   Nutritional and metabolic diseases (person)  \\\n",
       "1                                          381   \n",
       "2                                          172   \n",
       "3                                          138   \n",
       "4                                          346   \n",
       "5                                           95   \n",
       "\n",
       "   Mental illness and behavioural disorders (person)  \\\n",
       "1                                                101   \n",
       "2                                                 81   \n",
       "3                                                 40   \n",
       "4                                                 32   \n",
       "5                                                  6   \n",
       "\n",
       "   Nervous system diseases (person)  Cardiovascular diseases (person)  \\\n",
       "1                               456                              6770   \n",
       "2                               216                              4833   \n",
       "3                                41                              2156   \n",
       "4                               452                              9313   \n",
       "5                               144                              3599   \n",
       "\n",
       "   Respiratory system diseases (person)       ...         \\\n",
       "1                                  1797       ...          \n",
       "2                                   724       ...          \n",
       "3                                   310       ...          \n",
       "4                                  1639       ...          \n",
       "5                                  1275       ...          \n",
       "\n",
       "   Diseases of the skin and subcutaneous (person)  \\\n",
       "1                                               0   \n",
       "2                                               1   \n",
       "3                                               0   \n",
       "4                                               2   \n",
       "5                                               0   \n",
       "\n",
       "   Musculoskeletal disorders (person)  Urogenital tract diseases (person)  \\\n",
       "1                                  19                                 391   \n",
       "2                                  14                                 196   \n",
       "3                                   5                                 110   \n",
       "4                                  85                                 534   \n",
       "5                                   5                                 125   \n",
       "\n",
       "   Complications of pregnancy and childbirth (person)  \\\n",
       "1                                                 23    \n",
       "2                                                 29    \n",
       "3                                                  2    \n",
       "4                                                  9    \n",
       "5                                                  2    \n",
       "\n",
       "   Congenital malformations and chromosomal (person)  \\\n",
       "1                                                413   \n",
       "2                                                285   \n",
       "3                                                 99   \n",
       "4                                                712   \n",
       "5                                                 91   \n",
       "\n",
       "   Diseases during the perinatal (person)  \\\n",
       "1                                     109   \n",
       "2                                     238   \n",
       "3                                      88   \n",
       "4                                     212   \n",
       "5                                     315   \n",
       "\n",
       "   Symptoms are vague and ill-defined conditions (person)  \\\n",
       "1                                               3328        \n",
       "2                                               1425        \n",
       "3                                               1358        \n",
       "4                                               2037        \n",
       "5                                                225        \n",
       "\n",
       "   Unintentional injuries (person)  Unknown (person)  Others (person)  \n",
       "1                             1236              2319              216  \n",
       "2                              895              2330              195  \n",
       "3                              393               230               52  \n",
       "4                             1500              1531              102  \n",
       "5                              486               556              251  \n",
       "\n",
       "[5 rows x 21 columns]"
      ]
     },
     "execution_count": 15,
     "metadata": {},
     "output_type": "execute_result"
    }
   ],
   "source": [
    "data.head()"
   ]
  },
  {
   "cell_type": "markdown",
   "metadata": {},
   "source": [
    "### Geotagging these areas"
   ]
  },
  {
   "cell_type": "code",
   "execution_count": 25,
   "metadata": {
    "collapsed": true
   },
   "outputs": [],
   "source": [
    "import geocoder"
   ]
  },
  {
   "cell_type": "code",
   "execution_count": 26,
   "metadata": {
    "collapsed": false
   },
   "outputs": [
    {
     "name": "stderr",
     "output_type": "stream",
     "text": [
      "/Users/janakajain/anaconda/lib/python2.7/site-packages/ipykernel/__main__.py:1: SettingWithCopyWarning: \n",
      "A value is trying to be set on a copy of a slice from a DataFrame.\n",
      "Try using .loc[row_indexer,col_indexer] = value instead\n",
      "\n",
      "See the caveats in the documentation: http://pandas.pydata.org/pandas-docs/stable/indexing.html#indexing-view-versus-copy\n",
      "  if __name__ == '__main__':\n",
      "/Users/janakajain/anaconda/lib/python2.7/site-packages/ipykernel/__main__.py:2: SettingWithCopyWarning: \n",
      "A value is trying to be set on a copy of a slice from a DataFrame.\n",
      "Try using .loc[row_indexer,col_indexer] = value instead\n",
      "\n",
      "See the caveats in the documentation: http://pandas.pydata.org/pandas-docs/stable/indexing.html#indexing-view-versus-copy\n",
      "  from ipykernel import kernelapp as app\n"
     ]
    }
   ],
   "source": [
    "data['Latitude'] = ''\n",
    "data['Longitude'] = ''"
   ]
  },
  {
   "cell_type": "code",
   "execution_count": 27,
   "metadata": {
    "collapsed": false
   },
   "outputs": [
    {
     "name": "stderr",
     "output_type": "stream",
     "text": [
      "/Users/janakajain/anaconda/lib/python2.7/site-packages/pandas/core/indexing.py:477: SettingWithCopyWarning: \n",
      "A value is trying to be set on a copy of a slice from a DataFrame.\n",
      "Try using .loc[row_indexer,col_indexer] = value instead\n",
      "\n",
      "See the caveats in the documentation: http://pandas.pydata.org/pandas-docs/stable/indexing.html#indexing-view-versus-copy\n",
      "  self.obj[item] = s\n"
     ]
    }
   ],
   "source": [
    "for i, row in data.iterrows():\n",
    "    \n",
    "    lat, lon = geocoder.google(data.loc[i,'Province']).latlng\n",
    "    data.loc[i,'Latitude'] = lat\n",
    "    data.loc[i,'Longitude'] = lon"
   ]
  },
  {
   "cell_type": "code",
   "execution_count": 29,
   "metadata": {
    "collapsed": false
   },
   "outputs": [
    {
     "data": {
      "text/html": [
       "<div>\n",
       "<table border=\"1\" class=\"dataframe\">\n",
       "  <thead>\n",
       "    <tr style=\"text-align: right;\">\n",
       "      <th></th>\n",
       "      <th>Province</th>\n",
       "      <th>Total death (person)</th>\n",
       "      <th>Infections and Parasitic diseases (person)</th>\n",
       "      <th>Cancer and Tumours (person)</th>\n",
       "      <th>Haematopoietic immune system diseases (person)</th>\n",
       "      <th>Nutritional and metabolic diseases (person)</th>\n",
       "      <th>Mental illness and behavioural disorders (person)</th>\n",
       "      <th>Nervous system diseases (person)</th>\n",
       "      <th>Cardiovascular diseases (person)</th>\n",
       "      <th>Respiratory system diseases (person)</th>\n",
       "      <th>...</th>\n",
       "      <th>Urogenital tract diseases (person)</th>\n",
       "      <th>Complications of pregnancy and childbirth (person)</th>\n",
       "      <th>Congenital malformations and chromosomal (person)</th>\n",
       "      <th>Diseases during the perinatal (person)</th>\n",
       "      <th>Symptoms are vague and ill-defined conditions (person)</th>\n",
       "      <th>Unintentional injuries (person)</th>\n",
       "      <th>Unknown (person)</th>\n",
       "      <th>Others (person)</th>\n",
       "      <th>Latitude</th>\n",
       "      <th>Longitude</th>\n",
       "    </tr>\n",
       "  </thead>\n",
       "  <tbody>\n",
       "    <tr>\n",
       "      <th>1</th>\n",
       "      <td>Azerbaijan East</td>\n",
       "      <td>20877</td>\n",
       "      <td>134</td>\n",
       "      <td>2349</td>\n",
       "      <td>399</td>\n",
       "      <td>381</td>\n",
       "      <td>101</td>\n",
       "      <td>456</td>\n",
       "      <td>6770</td>\n",
       "      <td>1797</td>\n",
       "      <td>...</td>\n",
       "      <td>391</td>\n",
       "      <td>23</td>\n",
       "      <td>413</td>\n",
       "      <td>109</td>\n",
       "      <td>3328</td>\n",
       "      <td>1236</td>\n",
       "      <td>2319</td>\n",
       "      <td>216</td>\n",
       "      <td>37.9036</td>\n",
       "      <td>46.2682</td>\n",
       "    </tr>\n",
       "    <tr>\n",
       "      <th>2</th>\n",
       "      <td>Azerbaijan West</td>\n",
       "      <td>14006</td>\n",
       "      <td>127</td>\n",
       "      <td>2029</td>\n",
       "      <td>50</td>\n",
       "      <td>172</td>\n",
       "      <td>81</td>\n",
       "      <td>216</td>\n",
       "      <td>4833</td>\n",
       "      <td>724</td>\n",
       "      <td>...</td>\n",
       "      <td>196</td>\n",
       "      <td>29</td>\n",
       "      <td>285</td>\n",
       "      <td>238</td>\n",
       "      <td>1425</td>\n",
       "      <td>895</td>\n",
       "      <td>2330</td>\n",
       "      <td>195</td>\n",
       "      <td>37.455</td>\n",
       "      <td>45</td>\n",
       "    </tr>\n",
       "    <tr>\n",
       "      <th>3</th>\n",
       "      <td>Ardabil</td>\n",
       "      <td>6115</td>\n",
       "      <td>58</td>\n",
       "      <td>917</td>\n",
       "      <td>20</td>\n",
       "      <td>138</td>\n",
       "      <td>40</td>\n",
       "      <td>41</td>\n",
       "      <td>2156</td>\n",
       "      <td>310</td>\n",
       "      <td>...</td>\n",
       "      <td>110</td>\n",
       "      <td>2</td>\n",
       "      <td>99</td>\n",
       "      <td>88</td>\n",
       "      <td>1358</td>\n",
       "      <td>393</td>\n",
       "      <td>230</td>\n",
       "      <td>52</td>\n",
       "      <td>38.2537</td>\n",
       "      <td>48.3</td>\n",
       "    </tr>\n",
       "    <tr>\n",
       "      <th>4</th>\n",
       "      <td>Isfahan</td>\n",
       "      <td>21937</td>\n",
       "      <td>515</td>\n",
       "      <td>2481</td>\n",
       "      <td>72</td>\n",
       "      <td>346</td>\n",
       "      <td>32</td>\n",
       "      <td>452</td>\n",
       "      <td>9313</td>\n",
       "      <td>1639</td>\n",
       "      <td>...</td>\n",
       "      <td>534</td>\n",
       "      <td>9</td>\n",
       "      <td>712</td>\n",
       "      <td>212</td>\n",
       "      <td>2037</td>\n",
       "      <td>1500</td>\n",
       "      <td>1531</td>\n",
       "      <td>102</td>\n",
       "      <td>32.6546</td>\n",
       "      <td>51.668</td>\n",
       "    </tr>\n",
       "    <tr>\n",
       "      <th>5</th>\n",
       "      <td>Alborz</td>\n",
       "      <td>8574</td>\n",
       "      <td>472</td>\n",
       "      <td>669</td>\n",
       "      <td>71</td>\n",
       "      <td>95</td>\n",
       "      <td>6</td>\n",
       "      <td>144</td>\n",
       "      <td>3599</td>\n",
       "      <td>1275</td>\n",
       "      <td>...</td>\n",
       "      <td>125</td>\n",
       "      <td>2</td>\n",
       "      <td>91</td>\n",
       "      <td>315</td>\n",
       "      <td>225</td>\n",
       "      <td>486</td>\n",
       "      <td>556</td>\n",
       "      <td>251</td>\n",
       "      <td>38.9154</td>\n",
       "      <td>-77.2367</td>\n",
       "    </tr>\n",
       "  </tbody>\n",
       "</table>\n",
       "<p>5 rows × 23 columns</p>\n",
       "</div>"
      ],
      "text/plain": [
       "          Province  Total death (person)  \\\n",
       "1  Azerbaijan East                 20877   \n",
       "2  Azerbaijan West                 14006   \n",
       "3          Ardabil                  6115   \n",
       "4          Isfahan                 21937   \n",
       "5           Alborz                  8574   \n",
       "\n",
       "   Infections and Parasitic diseases (person)  Cancer and Tumours (person)  \\\n",
       "1                                         134                         2349   \n",
       "2                                         127                         2029   \n",
       "3                                          58                          917   \n",
       "4                                         515                         2481   \n",
       "5                                         472                          669   \n",
       "\n",
       "   Haematopoietic immune system diseases (person)  \\\n",
       "1                                             399   \n",
       "2                                              50   \n",
       "3                                              20   \n",
       "4                                              72   \n",
       "5                                              71   \n",
       "\n",
       "   Nutritional and metabolic diseases (person)  \\\n",
       "1                                          381   \n",
       "2                                          172   \n",
       "3                                          138   \n",
       "4                                          346   \n",
       "5                                           95   \n",
       "\n",
       "   Mental illness and behavioural disorders (person)  \\\n",
       "1                                                101   \n",
       "2                                                 81   \n",
       "3                                                 40   \n",
       "4                                                 32   \n",
       "5                                                  6   \n",
       "\n",
       "   Nervous system diseases (person)  Cardiovascular diseases (person)  \\\n",
       "1                               456                              6770   \n",
       "2                               216                              4833   \n",
       "3                                41                              2156   \n",
       "4                               452                              9313   \n",
       "5                               144                              3599   \n",
       "\n",
       "   Respiratory system diseases (person)    ...      \\\n",
       "1                                  1797    ...       \n",
       "2                                   724    ...       \n",
       "3                                   310    ...       \n",
       "4                                  1639    ...       \n",
       "5                                  1275    ...       \n",
       "\n",
       "   Urogenital tract diseases (person)  \\\n",
       "1                                 391   \n",
       "2                                 196   \n",
       "3                                 110   \n",
       "4                                 534   \n",
       "5                                 125   \n",
       "\n",
       "   Complications of pregnancy and childbirth (person)  \\\n",
       "1                                                 23    \n",
       "2                                                 29    \n",
       "3                                                  2    \n",
       "4                                                  9    \n",
       "5                                                  2    \n",
       "\n",
       "   Congenital malformations and chromosomal (person)  \\\n",
       "1                                                413   \n",
       "2                                                285   \n",
       "3                                                 99   \n",
       "4                                                712   \n",
       "5                                                 91   \n",
       "\n",
       "   Diseases during the perinatal (person)  \\\n",
       "1                                     109   \n",
       "2                                     238   \n",
       "3                                      88   \n",
       "4                                     212   \n",
       "5                                     315   \n",
       "\n",
       "   Symptoms are vague and ill-defined conditions (person)  \\\n",
       "1                                               3328        \n",
       "2                                               1425        \n",
       "3                                               1358        \n",
       "4                                               2037        \n",
       "5                                                225        \n",
       "\n",
       "   Unintentional injuries (person)  Unknown (person)  Others (person)  \\\n",
       "1                             1236              2319              216   \n",
       "2                              895              2330              195   \n",
       "3                              393               230               52   \n",
       "4                             1500              1531              102   \n",
       "5                              486               556              251   \n",
       "\n",
       "   Latitude  Longitude  \n",
       "1   37.9036    46.2682  \n",
       "2    37.455         45  \n",
       "3   38.2537       48.3  \n",
       "4   32.6546     51.668  \n",
       "5   38.9154   -77.2367  \n",
       "\n",
       "[5 rows x 23 columns]"
      ]
     },
     "execution_count": 29,
     "metadata": {},
     "output_type": "execute_result"
    }
   ],
   "source": [
    "data.head()"
   ]
  },
  {
   "cell_type": "markdown",
   "metadata": {},
   "source": [
    "### Geomapping these numbers"
   ]
  },
  {
   "cell_type": "code",
   "execution_count": 49,
   "metadata": {
    "collapsed": false
   },
   "outputs": [
    {
     "ename": "TypeError",
     "evalue": "cannot convert the series to <type 'int'>",
     "output_type": "error",
     "traceback": [
      "\u001b[0;31m---------------------------------------------------------------------------\u001b[0m",
      "\u001b[0;31mTypeError\u001b[0m                                 Traceback (most recent call last)",
      "\u001b[0;32m<ipython-input-49-4a588185644e>\u001b[0m in \u001b[0;36m<module>\u001b[0;34m()\u001b[0m\n\u001b[1;32m      4\u001b[0m \u001b[0;34m\u001b[0m\u001b[0m\n\u001b[1;32m      5\u001b[0m \u001b[0;31m# gmap.plot(data['Latitude'], data['Longitude'], 'cornflowerblue', edge_width=10)\u001b[0m\u001b[0;34m\u001b[0m\u001b[0;34m\u001b[0m\u001b[0m\n\u001b[0;32m----> 6\u001b[0;31m \u001b[0mgmap\u001b[0m\u001b[0;34m.\u001b[0m\u001b[0mscatter\u001b[0m\u001b[0;34m(\u001b[0m\u001b[0mdata\u001b[0m\u001b[0;34m[\u001b[0m\u001b[0;34m'Latitude'\u001b[0m\u001b[0;34m]\u001b[0m\u001b[0;34m,\u001b[0m \u001b[0mdata\u001b[0m\u001b[0;34m[\u001b[0m\u001b[0;34m'Longitude'\u001b[0m\u001b[0;34m]\u001b[0m\u001b[0;34m,\u001b[0m \u001b[0;34m'red'\u001b[0m\u001b[0;34m,\u001b[0m \u001b[0msize\u001b[0m \u001b[0;34m=\u001b[0m \u001b[0mint\u001b[0m\u001b[0;34m(\u001b[0m\u001b[0mdata\u001b[0m\u001b[0;34m[\u001b[0m\u001b[0;34m'Total death (person)'\u001b[0m\u001b[0;34m]\u001b[0m\u001b[0;34m/\u001b[0m\u001b[0;36m1000\u001b[0m\u001b[0;34m)\u001b[0m\u001b[0;34m,\u001b[0m \u001b[0mmarker\u001b[0m\u001b[0;34m=\u001b[0m\u001b[0mFalse\u001b[0m\u001b[0;34m)\u001b[0m\u001b[0;34m\u001b[0m\u001b[0m\n\u001b[0m\u001b[1;32m      7\u001b[0m \u001b[0;31m# gmap.scatter(marker_lats, marker_lngs, 'k', marker=True)\u001b[0m\u001b[0;34m\u001b[0m\u001b[0;34m\u001b[0m\u001b[0m\n\u001b[1;32m      8\u001b[0m \u001b[0;31m# gmap.heatmap(data['Latitude'], data['Longitude'], 40)\u001b[0m\u001b[0;34m\u001b[0m\u001b[0;34m\u001b[0m\u001b[0m\n",
      "\u001b[0;32m/Users/janakajain/anaconda/lib/python2.7/site-packages/pandas/core/series.pyc\u001b[0m in \u001b[0;36mwrapper\u001b[0;34m(self)\u001b[0m\n\u001b[1;32m     91\u001b[0m             \u001b[0;32mreturn\u001b[0m \u001b[0mconverter\u001b[0m\u001b[0;34m(\u001b[0m\u001b[0mself\u001b[0m\u001b[0;34m.\u001b[0m\u001b[0miloc\u001b[0m\u001b[0;34m[\u001b[0m\u001b[0;36m0\u001b[0m\u001b[0;34m]\u001b[0m\u001b[0;34m)\u001b[0m\u001b[0;34m\u001b[0m\u001b[0m\n\u001b[1;32m     92\u001b[0m         raise TypeError(\"cannot convert the series to \"\n\u001b[0;32m---> 93\u001b[0;31m                         \"{0}\".format(str(converter)))\n\u001b[0m\u001b[1;32m     94\u001b[0m \u001b[0;34m\u001b[0m\u001b[0m\n\u001b[1;32m     95\u001b[0m     \u001b[0;32mreturn\u001b[0m \u001b[0mwrapper\u001b[0m\u001b[0;34m\u001b[0m\u001b[0m\n",
      "\u001b[0;31mTypeError\u001b[0m: cannot convert the series to <type 'int'>"
     ]
    }
   ],
   "source": [
    "import gmplot\n",
    "\n",
    "gmap = gmplot.GoogleMapPlotter(32.4279, 53.6880, 6)\n",
    "\n",
    "# gmap.plot(data['Latitude'], data['Longitude'], 'cornflowerblue', edge_width=10)\n",
    "gmap.scatter(data['Latitude'], data['Longitude'], 'red', size = data['Total death (person)']/1000, marker=False)\n",
    "# gmap.scatter(marker_lats, marker_lngs, 'k', marker=True)\n",
    "# gmap.heatmap(data['Latitude'], data['Longitude'], 40)\n",
    "\n",
    "gmap.draw(\"mymap.html\")"
   ]
  },
  {
   "cell_type": "markdown",
   "metadata": {},
   "source": [
    "## Number of students and educational facilities for secondary school level disaggregated by provinces - School year 1394-1395"
   ]
  },
  {
   "cell_type": "code",
   "execution_count": 47,
   "metadata": {
    "collapsed": true
   },
   "outputs": [],
   "source": [
    "school_df = pd.read_csv('scied1716en.csv')"
   ]
  },
  {
   "cell_type": "code",
   "execution_count": 48,
   "metadata": {
    "collapsed": false
   },
   "outputs": [
    {
     "data": {
      "text/html": [
       "<div>\n",
       "<table border=\"1\" class=\"dataframe\">\n",
       "  <thead>\n",
       "    <tr style=\"text-align: right;\">\n",
       "      <th></th>\n",
       "      <th>Province</th>\n",
       "      <th>Number of students</th>\n",
       "      <th>Number of male students</th>\n",
       "      <th>Number of female students</th>\n",
       "      <th>Educational personnel – Teachers</th>\n",
       "      <th>Educational personnel – management and quality sector</th>\n",
       "      <th>Number of educational institution</th>\n",
       "      <th>Number of classrooms</th>\n",
       "    </tr>\n",
       "  </thead>\n",
       "  <tbody>\n",
       "    <tr>\n",
       "      <th>0</th>\n",
       "      <td>Azerbaijan East</td>\n",
       "      <td>150443</td>\n",
       "      <td>78861</td>\n",
       "      <td>71582</td>\n",
       "      <td>7432</td>\n",
       "      <td>2810</td>\n",
       "      <td>1377</td>\n",
       "      <td>6565</td>\n",
       "    </tr>\n",
       "    <tr>\n",
       "      <th>1</th>\n",
       "      <td>Azerbaijan West</td>\n",
       "      <td>131688</td>\n",
       "      <td>71436</td>\n",
       "      <td>60252</td>\n",
       "      <td>5554</td>\n",
       "      <td>2061</td>\n",
       "      <td>944</td>\n",
       "      <td>5154</td>\n",
       "    </tr>\n",
       "    <tr>\n",
       "      <th>2</th>\n",
       "      <td>Ardabil</td>\n",
       "      <td>50202</td>\n",
       "      <td>26107</td>\n",
       "      <td>24095</td>\n",
       "      <td>3322</td>\n",
       "      <td>1109</td>\n",
       "      <td>546</td>\n",
       "      <td>2431</td>\n",
       "    </tr>\n",
       "    <tr>\n",
       "      <th>3</th>\n",
       "      <td>Isfahan</td>\n",
       "      <td>187898</td>\n",
       "      <td>95910</td>\n",
       "      <td>91988</td>\n",
       "      <td>7859</td>\n",
       "      <td>3619</td>\n",
       "      <td>1266</td>\n",
       "      <td>7434</td>\n",
       "    </tr>\n",
       "    <tr>\n",
       "      <th>4</th>\n",
       "      <td>Alborz</td>\n",
       "      <td>97408</td>\n",
       "      <td>50329</td>\n",
       "      <td>47079</td>\n",
       "      <td>3346</td>\n",
       "      <td>1327</td>\n",
       "      <td>429</td>\n",
       "      <td>3317</td>\n",
       "    </tr>\n",
       "  </tbody>\n",
       "</table>\n",
       "</div>"
      ],
      "text/plain": [
       "          Province  Number of students  Number of male students  \\\n",
       "0  Azerbaijan East              150443                    78861   \n",
       "1  Azerbaijan West              131688                    71436   \n",
       "2          Ardabil               50202                    26107   \n",
       "3          Isfahan              187898                    95910   \n",
       "4           Alborz               97408                    50329   \n",
       "\n",
       "   Number of female students  Educational personnel – Teachers  \\\n",
       "0                      71582                              7432   \n",
       "1                      60252                              5554   \n",
       "2                      24095                              3322   \n",
       "3                      91988                              7859   \n",
       "4                      47079                              3346   \n",
       "\n",
       "   Educational personnel – management and quality sector  \\\n",
       "0                                               2810       \n",
       "1                                               2061       \n",
       "2                                               1109       \n",
       "3                                               3619       \n",
       "4                                               1327       \n",
       "\n",
       "   Number of educational institution  Number of classrooms  \n",
       "0                               1377                  6565  \n",
       "1                                944                  5154  \n",
       "2                                546                  2431  \n",
       "3                               1266                  7434  \n",
       "4                                429                  3317  "
      ]
     },
     "execution_count": 48,
     "metadata": {},
     "output_type": "execute_result"
    }
   ],
   "source": [
    "school_df.head()"
   ]
  },
  {
   "cell_type": "code",
   "execution_count": 52,
   "metadata": {
    "collapsed": false
   },
   "outputs": [
    {
     "data": {
      "text/plain": [
       "Province                                                 Azerbaijan EastAzerbaijan WestArdabilIsfahanAl...\n",
       "Number of students                                                                                 3044359\n",
       "Number of male students                                                                            1591299\n",
       "Number of female students                                                                          1688260\n",
       "Educational personnel – Teachers                                                                    142409\n",
       "Educational personnel – management and quality sector                                                57133\n",
       "Number of educational institution                                                                    23827\n",
       "Number of classrooms                                                                                125638\n",
       "dtype: object"
      ]
     },
     "execution_count": 52,
     "metadata": {},
     "output_type": "execute_result"
    }
   ],
   "source": [
    "school_df.sum()"
   ]
  },
  {
   "cell_type": "markdown",
   "metadata": {},
   "source": [
    "### Proportion of male students"
   ]
  },
  {
   "cell_type": "code",
   "execution_count": 53,
   "metadata": {
    "collapsed": true
   },
   "outputs": [],
   "source": [
    "school_df['Proportion of male students'] = school_df['Number of male students'] / school_df['Number of students']"
   ]
  },
  {
   "cell_type": "code",
   "execution_count": 56,
   "metadata": {
    "collapsed": false
   },
   "outputs": [
    {
     "name": "stderr",
     "output_type": "stream",
     "text": [
      "/Users/janakajain/anaconda/lib/python2.7/site-packages/ipykernel/__main__.py:1: FutureWarning: sort(columns=....) is deprecated, use sort_values(by=.....)\n",
      "  if __name__ == '__main__':\n"
     ]
    },
    {
     "data": {
      "text/html": [
       "<div>\n",
       "<table border=\"1\" class=\"dataframe\">\n",
       "  <thead>\n",
       "    <tr style=\"text-align: right;\">\n",
       "      <th></th>\n",
       "      <th>Province</th>\n",
       "      <th>Number of students</th>\n",
       "      <th>Number of male students</th>\n",
       "      <th>Number of female students</th>\n",
       "      <th>Educational personnel – Teachers</th>\n",
       "      <th>Educational personnel – management and quality sector</th>\n",
       "      <th>Number of educational institution</th>\n",
       "      <th>Number of classrooms</th>\n",
       "      <th>Proportion of male students</th>\n",
       "    </tr>\n",
       "  </thead>\n",
       "  <tbody>\n",
       "    <tr>\n",
       "      <th>15</th>\n",
       "      <td>Sistan and Baluchestan</td>\n",
       "      <td>118276</td>\n",
       "      <td>66961</td>\n",
       "      <td>51315</td>\n",
       "      <td>4596</td>\n",
       "      <td>2111</td>\n",
       "      <td>980</td>\n",
       "      <td>4747</td>\n",
       "      <td>0.566142</td>\n",
       "    </tr>\n",
       "    <tr>\n",
       "      <th>1</th>\n",
       "      <td>Azerbaijan West</td>\n",
       "      <td>131688</td>\n",
       "      <td>71436</td>\n",
       "      <td>60252</td>\n",
       "      <td>5554</td>\n",
       "      <td>2061</td>\n",
       "      <td>944</td>\n",
       "      <td>5154</td>\n",
       "      <td>0.542464</td>\n",
       "    </tr>\n",
       "    <tr>\n",
       "      <th>10</th>\n",
       "      <td>Khorasan Razavi</td>\n",
       "      <td>252060</td>\n",
       "      <td>136506</td>\n",
       "      <td>125554</td>\n",
       "      <td>13101</td>\n",
       "      <td>4940</td>\n",
       "      <td>2120</td>\n",
       "      <td>11131</td>\n",
       "      <td>0.541562</td>\n",
       "    </tr>\n",
       "  </tbody>\n",
       "</table>\n",
       "</div>"
      ],
      "text/plain": [
       "                  Province  Number of students  Number of male students  \\\n",
       "15  Sistan and Baluchestan              118276                    66961   \n",
       "1          Azerbaijan West              131688                    71436   \n",
       "10         Khorasan Razavi              252060                   136506   \n",
       "\n",
       "    Number of female students  Educational personnel – Teachers  \\\n",
       "15                      51315                              4596   \n",
       "1                       60252                              5554   \n",
       "10                     125554                             13101   \n",
       "\n",
       "    Educational personnel – management and quality sector  \\\n",
       "15                                               2111       \n",
       "1                                                2061       \n",
       "10                                               4940       \n",
       "\n",
       "    Number of educational institution  Number of classrooms  \\\n",
       "15                                980                  4747   \n",
       "1                                 944                  5154   \n",
       "10                               2120                 11131   \n",
       "\n",
       "    Proportion of male students  \n",
       "15                     0.566142  \n",
       "1                      0.542464  \n",
       "10                     0.541562  "
      ]
     },
     "execution_count": 56,
     "metadata": {},
     "output_type": "execute_result"
    }
   ],
   "source": [
    "school_df.sort(['Proportion of male students'], ascending = False).head(3)"
   ]
  },
  {
   "cell_type": "markdown",
   "metadata": {},
   "source": [
    "### Percentage contribution of students by province"
   ]
  },
  {
   "cell_type": "code",
   "execution_count": 58,
   "metadata": {
    "collapsed": true
   },
   "outputs": [],
   "source": [
    "school_df['Percentage students'] = (school_df['Number of students'] / np.sum(school_df['Number of students']))*100"
   ]
  },
  {
   "cell_type": "code",
   "execution_count": 62,
   "metadata": {
    "collapsed": false
   },
   "outputs": [
    {
     "name": "stderr",
     "output_type": "stream",
     "text": [
      "/Users/janakajain/anaconda/lib/python2.7/site-packages/ipykernel/__main__.py:1: FutureWarning: sort(columns=....) is deprecated, use sort_values(by=.....)\n",
      "  if __name__ == '__main__':\n"
     ]
    },
    {
     "data": {
      "text/html": [
       "<div>\n",
       "<table border=\"1\" class=\"dataframe\">\n",
       "  <thead>\n",
       "    <tr style=\"text-align: right;\">\n",
       "      <th></th>\n",
       "      <th>Province</th>\n",
       "      <th>Number of students</th>\n",
       "      <th>Number of male students</th>\n",
       "      <th>Number of female students</th>\n",
       "      <th>Educational personnel – Teachers</th>\n",
       "      <th>Educational personnel – management and quality sector</th>\n",
       "      <th>Number of educational institution</th>\n",
       "      <th>Number of classrooms</th>\n",
       "      <th>Proportion of male students</th>\n",
       "      <th>Percentage students</th>\n",
       "    </tr>\n",
       "  </thead>\n",
       "  <tbody>\n",
       "    <tr>\n",
       "      <th>7</th>\n",
       "      <td>Tehran</td>\n",
       "      <td>459935</td>\n",
       "      <td>235449</td>\n",
       "      <td>224486</td>\n",
       "      <td>14542</td>\n",
       "      <td>6512</td>\n",
       "      <td>1959</td>\n",
       "      <td>15851</td>\n",
       "      <td>0.511918</td>\n",
       "      <td>15.107778</td>\n",
       "    </tr>\n",
       "    <tr>\n",
       "      <th>10</th>\n",
       "      <td>Khorasan Razavi</td>\n",
       "      <td>252060</td>\n",
       "      <td>136506</td>\n",
       "      <td>125554</td>\n",
       "      <td>13101</td>\n",
       "      <td>4940</td>\n",
       "      <td>2120</td>\n",
       "      <td>11131</td>\n",
       "      <td>0.541562</td>\n",
       "      <td>8.279575</td>\n",
       "    </tr>\n",
       "    <tr>\n",
       "      <th>12</th>\n",
       "      <td>Khuzestan</td>\n",
       "      <td>204129</td>\n",
       "      <td>107999</td>\n",
       "      <td>96130</td>\n",
       "      <td>8804</td>\n",
       "      <td>3996</td>\n",
       "      <td>1572</td>\n",
       "      <td>8464</td>\n",
       "      <td>0.529072</td>\n",
       "      <td>6.705155</td>\n",
       "    </tr>\n",
       "  </tbody>\n",
       "</table>\n",
       "</div>"
      ],
      "text/plain": [
       "           Province  Number of students  Number of male students  \\\n",
       "7            Tehran              459935                   235449   \n",
       "10  Khorasan Razavi              252060                   136506   \n",
       "12        Khuzestan              204129                   107999   \n",
       "\n",
       "    Number of female students  Educational personnel – Teachers  \\\n",
       "7                      224486                             14542   \n",
       "10                     125554                             13101   \n",
       "12                      96130                              8804   \n",
       "\n",
       "    Educational personnel – management and quality sector  \\\n",
       "7                                                6512       \n",
       "10                                               4940       \n",
       "12                                               3996       \n",
       "\n",
       "    Number of educational institution  Number of classrooms  \\\n",
       "7                                1959                 15851   \n",
       "10                               2120                 11131   \n",
       "12                               1572                  8464   \n",
       "\n",
       "    Proportion of male students  Percentage students  \n",
       "7                      0.511918            15.107778  \n",
       "10                     0.541562             8.279575  \n",
       "12                     0.529072             6.705155  "
      ]
     },
     "execution_count": 62,
     "metadata": {},
     "output_type": "execute_result"
    }
   ],
   "source": [
    "school_df.sort(['Percentage students'] , ascending = False).head(3)"
   ]
  },
  {
   "cell_type": "markdown",
   "metadata": {},
   "source": [
    "### Province with highest number of students"
   ]
  },
  {
   "cell_type": "code",
   "execution_count": 63,
   "metadata": {
    "collapsed": false
   },
   "outputs": [
    {
     "name": "stderr",
     "output_type": "stream",
     "text": [
      "/Users/janakajain/anaconda/lib/python2.7/site-packages/ipykernel/__main__.py:1: FutureWarning: sort(columns=....) is deprecated, use sort_values(by=.....)\n",
      "  if __name__ == '__main__':\n"
     ]
    },
    {
     "data": {
      "text/html": [
       "<div>\n",
       "<table border=\"1\" class=\"dataframe\">\n",
       "  <thead>\n",
       "    <tr style=\"text-align: right;\">\n",
       "      <th></th>\n",
       "      <th>Province</th>\n",
       "      <th>Number of students</th>\n",
       "      <th>Number of male students</th>\n",
       "      <th>Number of female students</th>\n",
       "      <th>Educational personnel – Teachers</th>\n",
       "      <th>Educational personnel – management and quality sector</th>\n",
       "      <th>Number of educational institution</th>\n",
       "      <th>Number of classrooms</th>\n",
       "      <th>Proportion of male students</th>\n",
       "      <th>Percentage students</th>\n",
       "    </tr>\n",
       "  </thead>\n",
       "  <tbody>\n",
       "    <tr>\n",
       "      <th>7</th>\n",
       "      <td>Tehran</td>\n",
       "      <td>459935</td>\n",
       "      <td>235449</td>\n",
       "      <td>224486</td>\n",
       "      <td>14542</td>\n",
       "      <td>6512</td>\n",
       "      <td>1959</td>\n",
       "      <td>15851</td>\n",
       "      <td>0.511918</td>\n",
       "      <td>15.107778</td>\n",
       "    </tr>\n",
       "  </tbody>\n",
       "</table>\n",
       "</div>"
      ],
      "text/plain": [
       "  Province  Number of students  Number of male students  \\\n",
       "7   Tehran              459935                   235449   \n",
       "\n",
       "   Number of female students  Educational personnel – Teachers  \\\n",
       "7                     224486                             14542   \n",
       "\n",
       "   Educational personnel – management and quality sector  \\\n",
       "7                                               6512       \n",
       "\n",
       "   Number of educational institution  Number of classrooms  \\\n",
       "7                               1959                 15851   \n",
       "\n",
       "   Proportion of male students  Percentage students  \n",
       "7                     0.511918            15.107778  "
      ]
     },
     "execution_count": 63,
     "metadata": {},
     "output_type": "execute_result"
    }
   ],
   "source": [
    "school_df.sort(['Number of students'] , ascending = False).head(1)"
   ]
  },
  {
   "cell_type": "markdown",
   "metadata": {},
   "source": [
    "### Province with lowest number of students"
   ]
  },
  {
   "cell_type": "code",
   "execution_count": 64,
   "metadata": {
    "collapsed": false
   },
   "outputs": [
    {
     "name": "stderr",
     "output_type": "stream",
     "text": [
      "/Users/janakajain/anaconda/lib/python2.7/site-packages/ipykernel/__main__.py:1: FutureWarning: sort(columns=....) is deprecated, use sort_values(by=.....)\n",
      "  if __name__ == '__main__':\n"
     ]
    },
    {
     "data": {
      "text/html": [
       "<div>\n",
       "<table border=\"1\" class=\"dataframe\">\n",
       "  <thead>\n",
       "    <tr style=\"text-align: right;\">\n",
       "      <th></th>\n",
       "      <th>Province</th>\n",
       "      <th>Number of students</th>\n",
       "      <th>Number of male students</th>\n",
       "      <th>Number of female students</th>\n",
       "      <th>Educational personnel – Teachers</th>\n",
       "      <th>Educational personnel – management and quality sector</th>\n",
       "      <th>Number of educational institution</th>\n",
       "      <th>Number of classrooms</th>\n",
       "      <th>Proportion of male students</th>\n",
       "      <th>Percentage students</th>\n",
       "    </tr>\n",
       "  </thead>\n",
       "  <tbody>\n",
       "    <tr>\n",
       "      <th>5</th>\n",
       "      <td>Ilam</td>\n",
       "      <td>21993</td>\n",
       "      <td>11486</td>\n",
       "      <td>10507</td>\n",
       "      <td>1759</td>\n",
       "      <td>477</td>\n",
       "      <td>242</td>\n",
       "      <td>1086</td>\n",
       "      <td>0.522257</td>\n",
       "      <td>0.722418</td>\n",
       "    </tr>\n",
       "  </tbody>\n",
       "</table>\n",
       "</div>"
      ],
      "text/plain": [
       "  Province  Number of students  Number of male students  \\\n",
       "5     Ilam               21993                    11486   \n",
       "\n",
       "   Number of female students  Educational personnel – Teachers  \\\n",
       "5                      10507                              1759   \n",
       "\n",
       "   Educational personnel – management and quality sector  \\\n",
       "5                                                477       \n",
       "\n",
       "   Number of educational institution  Number of classrooms  \\\n",
       "5                                242                  1086   \n",
       "\n",
       "   Proportion of male students  Percentage students  \n",
       "5                     0.522257             0.722418  "
      ]
     },
     "execution_count": 64,
     "metadata": {},
     "output_type": "execute_result"
    }
   ],
   "source": [
    "school_df.sort(['Number of students'] , ascending = True).head(1)"
   ]
  },
  {
   "cell_type": "markdown",
   "metadata": {},
   "source": [
    "### Average number of classrooms across the regions"
   ]
  },
  {
   "cell_type": "code",
   "execution_count": 69,
   "metadata": {
    "collapsed": false
   },
   "outputs": [
    {
     "data": {
      "text/plain": [
       "2937.0"
      ]
     },
     "execution_count": 69,
     "metadata": {},
     "output_type": "execute_result"
    }
   ],
   "source": [
    "school_df['Number of classrooms'].describe()['50%']"
   ]
  },
  {
   "cell_type": "code",
   "execution_count": 70,
   "metadata": {
    "collapsed": false
   },
   "outputs": [
    {
     "data": {
      "text/plain": [
       "4052.8387096774195"
      ]
     },
     "execution_count": 70,
     "metadata": {},
     "output_type": "execute_result"
    }
   ],
   "source": [
    "school_df['Number of classrooms'].describe()['mean']"
   ]
  },
  {
   "cell_type": "markdown",
   "metadata": {},
   "source": [
    "### Number of teachers for every student in every region and whole of Iran"
   ]
  },
  {
   "cell_type": "code",
   "execution_count": 71,
   "metadata": {
    "collapsed": true
   },
   "outputs": [],
   "source": [
    "school_df['Teacher to student ratio'] = school_df['Educational personnel \\xe2\\x80\\x93 Teachers'] / school_df['Number of students']"
   ]
  },
  {
   "cell_type": "code",
   "execution_count": 78,
   "metadata": {
    "collapsed": false
   },
   "outputs": [],
   "source": [
    "overall_ratio = (np.sum(school_df['Educational personnel \\xe2\\x80\\x93 Teachers'])*0.1) / np.sum(school_df['Number of students'])"
   ]
  },
  {
   "cell_type": "code",
   "execution_count": 79,
   "metadata": {
    "collapsed": false
   },
   "outputs": [
    {
     "data": {
      "text/plain": [
       "0.004677799168889083"
      ]
     },
     "execution_count": 79,
     "metadata": {},
     "output_type": "execute_result"
    }
   ],
   "source": [
    "overall_ratio"
   ]
  },
  {
   "cell_type": "code",
   "execution_count": null,
   "metadata": {
    "collapsed": true
   },
   "outputs": [],
   "source": []
  }
 ],
 "metadata": {
  "anaconda-cloud": {},
  "kernelspec": {
   "display_name": "Python [conda root]",
   "language": "python",
   "name": "conda-root-py"
  },
  "language_info": {
   "codemirror_mode": {
    "name": "ipython",
    "version": 2
   },
   "file_extension": ".py",
   "mimetype": "text/x-python",
   "name": "python",
   "nbconvert_exporter": "python",
   "pygments_lexer": "ipython2",
   "version": "2.7.12"
  }
 },
 "nbformat": 4,
 "nbformat_minor": 2
}
